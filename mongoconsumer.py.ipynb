{
 "cells": [
  {
   "cell_type": "code",
   "execution_count": null,
   "id": "b0eb2e46",
   "metadata": {},
   "outputs": [],
   "source": [
    "from kafka import KafkaConsumer\n",
    "from json import loads\n",
    "from pymongo import MongoClient\n",
    "\n",
    "KAFKA_CONSUMER_GROUP_NAME_CONS = \"music-consumer-group\"\n",
    "KAFKA_TOPIC_NAME_CONS = \"music-data\"\n",
    "KAFKA_BOOTSTRAP_SERVERS_CONS = 'localhost:9092'\n",
    "\n",
    "# MongoDB configurations\n",
    "MONGO_HOST = 'localhost'\n",
    "MONGO_PORT = 27017\n",
    "MONGO_DB_NAME = 'project'\n",
    "MONGO_COLLECTION_NAME = 'music_dataset'\n",
    "\n",
    "# Connect to MongoDB\n",
    "client = MongoClient(MONGO_HOST, MONGO_PORT)\n",
    "db = client[MONGO_DB_NAME]\n",
    "collection = db[MONGO_COLLECTION_NAME]\n",
    "\n",
    "if _name_ == \"_main_\":\n",
    "    print(\"Kafka Consumer Application Started ... \")\n",
    "\n",
    "    try:\n",
    "        consumer = KafkaConsumer(\n",
    "            KAFKA_TOPIC_NAME_CONS,\n",
    "            bootstrap_servers=KAFKA_BOOTSTRAP_SERVERS_CONS,\n",
    "            auto_offset_reset='latest',\n",
    "            enable_auto_commit=True,\n",
    "            group_id=KAFKA_CONSUMER_GROUP_NAME_CONS,\n",
    "            value_deserializer=lambda x: loads(x.decode('utf-8')))\n",
    "\n",
    "        for message in consumer:\n",
    "            # Parse the JSON message\n",
    "            data = message.value\n",
    "\n",
    "            # Insert the parsed data into MongoDB\n",
    "            collection.insert_one(data)\n",
    "\n",
    "            # Print the received message (optional)\n",
    "            print(\"Message received and saved to MongoDB: \", data)\n",
    "    except Exception as ex:\n",
    "        print(\"Failed to read kafka message.\")\n",
    "        print(ex)"
   ]
  }
 ],
 "metadata": {
  "kernelspec": {
   "display_name": "Python 3 (ipykernel)",
   "language": "python",
   "name": "python3"
  },
  "language_info": {
   "codemirror_mode": {
    "name": "ipython",
    "version": 3
   },
   "file_extension": ".py",
   "mimetype": "text/x-python",
   "name": "python",
   "nbconvert_exporter": "python",
   "pygments_lexer": "ipython3",
   "version": "3.11.5"
  }
 },
 "nbformat": 4,
 "nbformat_minor": 5
}
