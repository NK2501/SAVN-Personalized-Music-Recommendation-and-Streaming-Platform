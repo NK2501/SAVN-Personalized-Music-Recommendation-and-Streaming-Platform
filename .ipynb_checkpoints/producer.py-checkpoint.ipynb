{
 "cells": [
  {
   "cell_type": "code",
   "execution_count": null,
   "id": "15ba2d54",
   "metadata": {},
   "outputs": [],
   "source": [
    "from kafka import KafkaProducer\n",
    "from datetime import datetime\n",
    "import time\n",
    "from json import dumps\n",
    "import random\n",
    "from faker import Faker\n",
    "\n",
    "# pip install kafka-python\n",
    "# pip install Faker\n",
    "\n",
    "KAFKA_TOPIC_NAME_CONS = \"music-data\"\n",
    "KAFKA_BOOTSTRAP_SERVERS_CONS = 'localhost:9092'\n",
    "\n",
    "if _name_ == \"_main_\":\n",
    "    print(\"Kafka Producer Application Started ... \")\n",
    "\n",
    "    kafka_producer_obj = KafkaProducer(bootstrap_servers=KAFKA_BOOTSTRAP_SERVERS_CONS,\n",
    "                                       value_serializer=lambda x: dumps(x).encode('utf-8'))\n",
    "\n",
    "    faker = Faker()\n",
    "\n",
    "    artists = [faker.name() for _ in range(20)]\n",
    "    genres = [\"Rock\", \"Pop\", \"Jazz\", \"Hip Hop\", \"Electronic\", \"Classical\", \"Country\"]\n",
    "\n",
    "    for i in range(500):\n",
    "        message = {}\n",
    "        print(\"Preparing message: \" + str(i + 1))\n",
    "\n",
    "        message[\"title\"] = faker.catch_phrase()\n",
    "        message[\"artist\"] = random.choice(artists)\n",
    "        message[\"genre\"] = random.choice(genres)\n",
    "        message[\"duration_seconds\"] = random.randint(120, 600)  # Random duration between 2 to 10 minutes\n",
    "        message[\"play_count\"] = random.randint(1, 1000)\n",
    "\n",
    "        # Add additional columns to the dataset\n",
    "        message[\"release_date\"] = faker.date_between(start_date='-30y', end_date='today').strftime('%Y-%m-%d')\n",
    "        message[\"album\"] = faker.word()\n",
    "        message[\"year\"] = faker.year()\n",
    "        message[\"label\"] = faker.company()\n",
    "        message[\"rating\"] = random.randint(1, 5)\n",
    "\n",
    "        print(\"Message: \", message)\n",
    "        kafka_producer_obj.send(KAFKA_TOPIC_NAME_CONS, value=message)\n",
    "        time.sleep(1)\n",
    "\n",
    "    print(\"Kafka Producer Application Completed. \")"
   ]
  }
 ],
 "metadata": {
  "kernelspec": {
   "display_name": "Python 3 (ipykernel)",
   "language": "python",
   "name": "python3"
  },
  "language_info": {
   "codemirror_mode": {
    "name": "ipython",
    "version": 3
   },
   "file_extension": ".py",
   "mimetype": "text/x-python",
   "name": "python",
   "nbconvert_exporter": "python",
   "pygments_lexer": "ipython3",
   "version": "3.11.5"
  }
 },
 "nbformat": 4,
 "nbformat_minor": 5
}
