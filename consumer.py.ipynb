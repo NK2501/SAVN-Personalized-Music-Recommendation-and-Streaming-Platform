{
 "cells": [
  {
   "cell_type": "code",
   "execution_count": null,
   "id": "9e0843ea",
   "metadata": {},
   "outputs": [],
   "source": [
    "from kafka import KafkaConsumer\n",
    "from json import loads\n",
    "import pandas as pd\n",
    "\n",
    "KAFKA_CONSUMER_GROUP_NAME_CONS = \"music-consumer-group\"\n",
    "KAFKA_TOPIC_NAME_CONS = \"music-data\"\n",
    "KAFKA_BOOTSTRAP_SERVERS_CONS = 'localhost:9092'\n",
    "\n",
    "if _name_ == \"_main_\":\n",
    "    print(\"Kafka Consumer Application Started ... \")\n",
    "\n",
    "    try:\n",
    "        consumer = KafkaConsumer(\n",
    "            KAFKA_TOPIC_NAME_CONS,\n",
    "            bootstrap_servers=KAFKA_BOOTSTRAP_SERVERS_CONS,\n",
    "            auto_offset_reset='latest',\n",
    "            enable_auto_commit=True,\n",
    "            group_id=KAFKA_CONSUMER_GROUP_NAME_CONS,\n",
    "            value_deserializer=lambda x: loads(x.decode('utf-8')))\n",
    "\n",
    "        # Initialize an empty list to store parsed messages\n",
    "        messages = []\n",
    "\n",
    "        for message in consumer:\n",
    "            # Parse the JSON message\n",
    "            data = message.value\n",
    "\n",
    "            # Append the parsed data to the list\n",
    "            messages.append(data)\n",
    "\n",
    "            # Print the received message (optional)\n",
    "            print(\"Message received: \", data)\n",
    "    except Exception as ex:\n",
    "        print(\"Failed to read kafka message.\")\n",
    "        print(ex)\n",
    "\n",
    "# Convert the list of messages into a pandas DataFrame\n",
    "df = pd.DataFrame(messages)\n",
    "\n",
    "# Perform preprocessing if needed\n",
    "# For example, drop any rows with missing values\n",
    "df.dropna(inplace=True)\n",
    "\n",
    "# Display the DataFrame\n",
    "print(df)"
   ]
  }
 ],
 "metadata": {
  "kernelspec": {
   "display_name": "Python 3 (ipykernel)",
   "language": "python",
   "name": "python3"
  },
  "language_info": {
   "codemirror_mode": {
    "name": "ipython",
    "version": 3
   },
   "file_extension": ".py",
   "mimetype": "text/x-python",
   "name": "python",
   "nbconvert_exporter": "python",
   "pygments_lexer": "ipython3",
   "version": "3.11.5"
  }
 },
 "nbformat": 4,
 "nbformat_minor": 5
}
