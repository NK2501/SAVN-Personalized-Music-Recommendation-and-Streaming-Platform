{
 "cells": [
  {
   "cell_type": "code",
   "execution_count": 35,
   "id": "4f5f039b",
   "metadata": {},
   "outputs": [
    {
     "name": "stdout",
     "output_type": "stream",
     "text": [
      "Music data for 1000 users has been saved to E:\\DBDA\\Project\\music_data6.csv\n"
     ]
    }
   ],
   "source": [
    "import csv\n",
    "from faker import Faker\n",
    "import random\n",
    "\n",
    "# Create a Faker instance\n",
    "fake = Faker()\n",
    "\n",
    "# Set a seed to ensure consistent data generation\n",
    "Faker.seed(12345)\n",
    "\n",
    "# Generate fake data for artist names and song names\n",
    "num_artists = 50\n",
    "num_songs = 100\n",
    "\n",
    "\n",
    "artist_names = [fake.name() for _ in range(num_artists)]\n",
    "song_names = [fake.catch_phrase() for _ in range(num_songs)]\n",
    "daily_rank_spotify=[fake.random.randint(1,5)]\n",
    "daily_rank_amazon=[fake.random.randint(1,5)]\n",
    "daily_rank_wink=[fake.random.randint(1,5)]\n",
    "daily_rank_itune=[fake.random.randint(1,5)]\n",
    "popularity=[fake.random.randint(1,100)]\n",
    "\n",
    "\n",
    "\n",
    "# Generate music data for multiple users\n",
    "num_users = 1000\n",
    "\n",
    "music_data = []\n",
    "for user_id in range(1, num_users + 1):\n",
    "    artist_name = random.choice(artist_names)\n",
    "    song_name = random.choice(song_names)\n",
    "    daily_rank_spotify=fake.random.randint(1,5)\n",
    "    daily_rank_amazon=fake.random.randint(1,5)\n",
    "    daily_rank_wink=fake.random.randint(1,5)\n",
    "    daily_rank_itune=fake.random.randint(1,5)\n",
    "    popularity=random.randint(1,100)\n",
    "    \n",
    "    \n",
    "    user_data = {\n",
    "        'User ID': user_id,\n",
    "        'Artist Name': artist_name,\n",
    "        'Song Name': song_name,\n",
    "        'daily_rank_spotify':daily_rank_spotify,\n",
    "        'daily_rank_amazon':daily_rank_amazon,\n",
    "        'daily_rank_wink':daily_rank_wink,\n",
    "        'daily_rank_itune':daily_rank_itune,\n",
    "        'popularity':popularity,\n",
    "        \n",
    "    }\n",
    "    music_data.append(user_data)\n",
    "\n",
    "# Save the music data to a CSV file\n",
    "csv_file = r'E:\\DBDA\\Project\\music_data6.csv'\n",
    "fieldnames = ['User ID', 'Artist Name', 'Song Name','daily_rank_spotify','daily_rank_amazon','daily_rank_wink','daily_rank_itune','popularity']\n",
    "\n",
    "with open(csv_file, mode='w', newline='') as file:\n",
    "    writer = csv.DictWriter(file, fieldnames=fieldnames)\n",
    "    writer.writeheader()\n",
    "    for data in music_data:\n",
    "        writer.writerow(data)\n",
    "\n",
    "print(f\"Music data for {num_users} users has been saved to {csv_file}\")"
   ]
  },
  {
   "cell_type": "code",
   "execution_count": null,
   "id": "9f7b27eb",
   "metadata": {},
   "outputs": [],
   "source": []
  }
 ],
 "metadata": {
  "kernelspec": {
   "display_name": "Python 3 (ipykernel)",
   "language": "python",
   "name": "python3"
  },
  "language_info": {
   "codemirror_mode": {
    "name": "ipython",
    "version": 3
   },
   "file_extension": ".py",
   "mimetype": "text/x-python",
   "name": "python",
   "nbconvert_exporter": "python",
   "pygments_lexer": "ipython3",
   "version": "3.11.5"
  }
 },
 "nbformat": 4,
 "nbformat_minor": 5
}
